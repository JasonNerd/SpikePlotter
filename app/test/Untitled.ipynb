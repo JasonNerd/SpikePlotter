{
 "cells": [
  {
   "cell_type": "markdown",
   "id": "17dd201e",
   "metadata": {},
   "source": [
    "## 使用elephant读取nwb文件"
   ]
  },
  {
   "cell_type": "code",
   "execution_count": 1,
   "id": "635f788e",
   "metadata": {},
   "outputs": [
    {
     "data": {
      "text/plain": [
       "('D:/datasets/SpikeData/nwb_sample/sub-210862_ses-20130626_behavior+ecephys+ogen.nwb',\n",
       " 20)"
      ]
     },
     "execution_count": 1,
     "metadata": {},
     "output_type": "execute_result"
    }
   ],
   "source": [
    "# 1. 数据文件列表\n",
    "import os\n",
    "root = \"D:/datasets/SpikeData/nwb_sample/\"\n",
    "fls = os.listdir(root)\n",
    "fls = [root+f for f in fls]\n",
    "fls[0], len(fls)"
   ]
  },
  {
   "cell_type": "code",
   "execution_count": 15,
   "id": "ec1d7c73",
   "metadata": {},
   "outputs": [
    {
     "data": {
      "text/plain": [
       "'D:/datasets/SpikeData/nwb_sample/sub-210862_ses-20130626_behavior+ecephys+ogen.nwb'"
      ]
     },
     "execution_count": 15,
     "metadata": {},
     "output_type": "execute_result"
    }
   ],
   "source": [
    "nwb_file = fls[0]\n",
    "nwb_file"
   ]
  },
  {
   "cell_type": "code",
   "execution_count": 16,
   "id": "c9051fde",
   "metadata": {},
   "outputs": [
    {
     "data": {
      "text/plain": [
       "<neo.io.nwbio.NWBIO at 0x21abbb58df0>"
      ]
     },
     "execution_count": 16,
     "metadata": {},
     "output_type": "execute_result"
    }
   ],
   "source": [
    "import neo\n",
    "io = neo.io.NWBIO(nwb_file)\n",
    "io"
   ]
  },
  {
   "cell_type": "code",
   "execution_count": 17,
   "id": "81fc71aa",
   "metadata": {},
   "outputs": [
    {
     "name": "stderr",
     "output_type": "stream",
     "text": [
      "D:\\User\\mrrai\\.conda\\envs\\Elephant\\lib\\site-packages\\hdmf\\spec\\namespace.py:531: UserWarning: Ignoring cached namespace 'core' version 2.1.0 because version 2.6.0-alpha is already loaded.\n",
      "  warn(\"Ignoring cached namespace '%s' version %s because version %s is already loaded.\"\n"
     ]
    },
    {
     "ename": "AttributeError",
     "evalue": "'BehavioralEvents' object has no attribute 'comments'",
     "output_type": "error",
     "traceback": [
      "\u001b[1;31m---------------------------------------------------------------------------\u001b[0m",
      "\u001b[1;31mAttributeError\u001b[0m                            Traceback (most recent call last)",
      "Cell \u001b[1;32mIn[17], line 1\u001b[0m\n\u001b[1;32m----> 1\u001b[0m blk \u001b[38;5;241m=\u001b[39m \u001b[43mio\u001b[49m\u001b[38;5;241;43m.\u001b[39;49m\u001b[43mread_all_blocks\u001b[49m\u001b[43m(\u001b[49m\u001b[43m)\u001b[49m\n",
      "File \u001b[1;32mD:\\User\\mrrai\\.conda\\envs\\Elephant\\lib\\site-packages\\neo\\io\\nwbio.py:258\u001b[0m, in \u001b[0;36mNWBIO.read_all_blocks\u001b[1;34m(self, lazy, **kwargs)\u001b[0m\n\u001b[0;32m    254\u001b[0m     \u001b[38;5;28mself\u001b[39m\u001b[38;5;241m.\u001b[39mglobal_block_metadata[\u001b[38;5;124m\"\u001b[39m\u001b[38;5;124mfile_datetime\u001b[39m\u001b[38;5;124m\"\u001b[39m] \u001b[38;5;241m=\u001b[39m \u001b[38;5;28mself\u001b[39m\u001b[38;5;241m.\u001b[39mglobal_block_metadata[\n\u001b[0;32m    255\u001b[0m         \u001b[38;5;124m\"\u001b[39m\u001b[38;5;124mrec_datetime\u001b[39m\u001b[38;5;124m\"\u001b[39m]\n\u001b[0;32m    257\u001b[0m \u001b[38;5;28mself\u001b[39m\u001b[38;5;241m.\u001b[39m_blocks \u001b[38;5;241m=\u001b[39m {}\n\u001b[1;32m--> 258\u001b[0m \u001b[38;5;28;43mself\u001b[39;49m\u001b[38;5;241;43m.\u001b[39;49m\u001b[43m_read_acquisition_group\u001b[49m\u001b[43m(\u001b[49m\u001b[43mlazy\u001b[49m\u001b[38;5;241;43m=\u001b[39;49m\u001b[43mlazy\u001b[49m\u001b[43m)\u001b[49m\n\u001b[0;32m    259\u001b[0m \u001b[38;5;28mself\u001b[39m\u001b[38;5;241m.\u001b[39m_read_stimulus_group(lazy)\n\u001b[0;32m    260\u001b[0m \u001b[38;5;28mself\u001b[39m\u001b[38;5;241m.\u001b[39m_read_units(lazy\u001b[38;5;241m=\u001b[39mlazy)\n",
      "File \u001b[1;32mD:\\User\\mrrai\\.conda\\envs\\Elephant\\lib\\site-packages\\neo\\io\\nwbio.py:382\u001b[0m, in \u001b[0;36mNWBIO._read_acquisition_group\u001b[1;34m(self, lazy)\u001b[0m\n\u001b[0;32m    381\u001b[0m \u001b[38;5;28;01mdef\u001b[39;00m \u001b[38;5;21m_read_acquisition_group\u001b[39m(\u001b[38;5;28mself\u001b[39m, lazy):\n\u001b[1;32m--> 382\u001b[0m     \u001b[38;5;28;43mself\u001b[39;49m\u001b[38;5;241;43m.\u001b[39;49m\u001b[43m_read_timeseries_group\u001b[49m\u001b[43m(\u001b[49m\u001b[38;5;124;43m\"\u001b[39;49m\u001b[38;5;124;43macquisition\u001b[39;49m\u001b[38;5;124;43m\"\u001b[39;49m\u001b[43m,\u001b[49m\u001b[43m \u001b[49m\u001b[43mlazy\u001b[49m\u001b[43m)\u001b[49m\n",
      "File \u001b[1;32mD:\\User\\mrrai\\.conda\\envs\\Elephant\\lib\\site-packages\\neo\\io\\nwbio.py:331\u001b[0m, in \u001b[0;36mNWBIO._read_timeseries_group\u001b[1;34m(self, group_name, lazy)\u001b[0m\n\u001b[0;32m    328\u001b[0m \u001b[38;5;28;01mfor\u001b[39;00m timeseries \u001b[38;5;129;01min\u001b[39;00m group\u001b[38;5;241m.\u001b[39mvalues():\n\u001b[0;32m    329\u001b[0m     \u001b[38;5;28;01mtry\u001b[39;00m:\n\u001b[0;32m    330\u001b[0m         \u001b[38;5;66;03m# NWB files created by Neo store the segment and block names in the comments field\u001b[39;00m\n\u001b[1;32m--> 331\u001b[0m         hierarchy \u001b[38;5;241m=\u001b[39m json\u001b[38;5;241m.\u001b[39mloads(\u001b[43mtimeseries\u001b[49m\u001b[38;5;241;43m.\u001b[39;49m\u001b[43mcomments\u001b[49m)\n\u001b[0;32m    332\u001b[0m     \u001b[38;5;28;01mexcept\u001b[39;00m JSONDecodeError:\n\u001b[0;32m    333\u001b[0m         \u001b[38;5;66;03m# For NWB files created with other applications, we put everything in a single\u001b[39;00m\n\u001b[0;32m    334\u001b[0m         \u001b[38;5;66;03m# segment in a single block\u001b[39;00m\n\u001b[0;32m    335\u001b[0m         \u001b[38;5;66;03m# todo: investigate whether there is a reliable way to create multiple segments,\u001b[39;00m\n\u001b[0;32m    336\u001b[0m         \u001b[38;5;66;03m#       e.g. using Trial information\u001b[39;00m\n\u001b[0;32m    337\u001b[0m         block_name \u001b[38;5;241m=\u001b[39m \u001b[38;5;124m\"\u001b[39m\u001b[38;5;124mdefault\u001b[39m\u001b[38;5;124m\"\u001b[39m\n",
      "\u001b[1;31mAttributeError\u001b[0m: 'BehavioralEvents' object has no attribute 'comments'"
     ]
    }
   ],
   "source": [
    "blk = io.read_all_blocks()"
   ]
  },
  {
   "cell_type": "code",
   "execution_count": 14,
   "id": "e73c87f9",
   "metadata": {},
   "outputs": [],
   "source": [
    "blk"
   ]
  },
  {
   "cell_type": "code",
   "execution_count": 17,
   "id": "4e48e3ed",
   "metadata": {},
   "outputs": [
    {
     "data": {
      "text/plain": [
       "(Segment with 3 events, 267 spiketrains\n",
       " name: 'Segment 0'\n",
       " description: 'Segment containing data from t_start to t_stop'\n",
       " # analogsignals (N=0),)"
      ]
     },
     "execution_count": 17,
     "metadata": {},
     "output_type": "execute_result"
    }
   ],
   "source": [
    "blk.container_children"
   ]
  },
  {
   "cell_type": "code",
   "execution_count": 19,
   "id": "3578f5b5",
   "metadata": {},
   "outputs": [
    {
     "data": {
      "text/plain": [
       "list"
      ]
     },
     "execution_count": 19,
     "metadata": {},
     "output_type": "execute_result"
    }
   ],
   "source": [
    "type(blk.segments)"
   ]
  },
  {
   "cell_type": "code",
   "execution_count": 20,
   "id": "4f20dab9",
   "metadata": {},
   "outputs": [
    {
     "data": {
      "text/plain": [
       "Segment with 3 events, 267 spiketrains\n",
       "name: 'Segment 0'\n",
       "description: 'Segment containing data from t_start to t_stop'\n",
       "# analogsignals (N=0)"
      ]
     },
     "execution_count": 20,
     "metadata": {},
     "output_type": "execute_result"
    }
   ],
   "source": [
    "blk.segments[0]"
   ]
  },
  {
   "cell_type": "code",
   "execution_count": 21,
   "id": "ac73b1e8",
   "metadata": {},
   "outputs": [
    {
     "data": {
      "text/plain": [
       "neo.core.segment.Segment"
      ]
     },
     "execution_count": 21,
     "metadata": {},
     "output_type": "execute_result"
    }
   ],
   "source": [
    "blk_seg0 = blk.segments[0]\n",
    "type(blk_seg0)"
   ]
  },
  {
   "cell_type": "code",
   "execution_count": 28,
   "id": "c55a2ecf",
   "metadata": {},
   "outputs": [
    {
     "data": {
      "text/plain": [
       "<neo.core.spiketrainlist.SpikeTrainList at 0x217c3c58340>"
      ]
     },
     "execution_count": 28,
     "metadata": {},
     "output_type": "execute_result"
    }
   ],
   "source": [
    "blk_seg0.spiketrains"
   ]
  },
  {
   "cell_type": "code",
   "execution_count": 33,
   "id": "2acdde70",
   "metadata": {},
   "outputs": [
    {
     "data": {
      "text/plain": [
       "SpikeTrain containing 2 spikes; units s; datatype float64 \n",
       "name: 'ch2#0'\n",
       "description: 'SpikeTrain channel_id: 2, unit_id: 0'\n",
       "annotations: {'id': 'Unit 2000',\n",
       "  'channel_id': 2,\n",
       "  'unit_id': 0,\n",
       "  'unit_tag': 'unclassified'}\n",
       "time: 0.021733333333333334 s to 908.2021333333333 s"
      ]
     },
     "execution_count": 33,
     "metadata": {},
     "output_type": "execute_result"
    }
   ],
   "source": [
    "sp = blk_seg0.spiketrains\n",
    "sp[0]"
   ]
  },
  {
   "cell_type": "code",
   "execution_count": 49,
   "id": "faf0e6ce",
   "metadata": {},
   "outputs": [
    {
     "data": {
      "text/plain": [
       "(267, 'ch8#0', array(0.02173333) * s, array(908.20213333) * s, 1)"
      ]
     },
     "execution_count": 49,
     "metadata": {},
     "output_type": "execute_result"
    }
   ],
   "source": [
    "sp_list = list(sp)\n",
    "sp0 = sp_list[8]\n",
    "len(sp_list), sp0.t_start, sp0.t_stop, len(sp0.times)"
   ]
  },
  {
   "cell_type": "code",
   "execution_count": 51,
   "id": "bdfd895d",
   "metadata": {},
   "outputs": [
    {
     "name": "stdout",
     "output_type": "stream",
     "text": [
      "ch2#0 :  2\n",
      "ch4#0 :  242\n",
      "ch4#1 :  317\n",
      "ch4#2 :  257\n",
      "ch5#0 :  30\n",
      "ch6#0 :  286\n",
      "ch6#1 :  918\n",
      "ch7#0 :  13\n",
      "ch8#0 :  1\n",
      "ch11#0 :  2\n",
      "ch16#0 :  6\n",
      "ch17#0 :  687\n",
      "ch17#1 :  276\n",
      "ch18#0 :  48\n",
      "ch25#0 :  2\n",
      "ch30#0 :  9\n",
      "ch32#0 :  795\n",
      "ch33#0 :  24\n",
      "ch34#0 :  7\n",
      "ch35#0 :  806\n",
      "ch35#1 :  1818\n",
      "ch36#0 :  265\n",
      "ch36#1 :  242\n",
      "ch37#0 :  5\n",
      "ch40#0 :  1\n",
      "ch42#0 :  6\n",
      "ch45#0 :  296\n",
      "ch45#1 :  1200\n",
      "ch47#0 :  1\n",
      "ch49#0 :  272\n",
      "ch51#0 :  175\n",
      "ch51#1 :  151\n",
      "ch53#0 :  3185\n",
      "ch53#1 :  2406\n",
      "ch53#2 :  1507\n",
      "ch54#0 :  3\n",
      "ch55#0 :  3038\n",
      "ch55#1 :  2426\n",
      "ch55#2 :  1139\n",
      "ch56#0 :  17\n",
      "ch57#0 :  490\n",
      "ch57#1 :  303\n",
      "ch57#2 :  315\n",
      "ch58#0 :  7\n",
      "ch59#0 :  45\n",
      "ch60#0 :  14\n",
      "ch61#0 :  645\n",
      "ch61#1 :  823\n",
      "ch63#0 :  1\n",
      "ch64#0 :  14\n",
      "ch65#0 :  640\n",
      "ch65#1 :  883\n",
      "ch65#2 :  537\n",
      "ch66#0 :  460\n",
      "ch68#0 :  10\n",
      "ch69#0 :  634\n",
      "ch69#1 :  3153\n",
      "ch70#0 :  2\n",
      "ch72#0 :  51\n",
      "ch73#0 :  896\n",
      "ch73#1 :  3576\n",
      "ch74#0 :  1131\n",
      "ch74#1 :  2592\n",
      "ch74#2 :  220\n",
      "ch75#0 :  72\n",
      "ch76#0 :  118\n",
      "ch77#0 :  4\n",
      "ch78#0 :  252\n",
      "ch80#0 :  865\n",
      "ch80#1 :  1972\n",
      "ch81#0 :  28\n",
      "ch82#0 :  229\n",
      "ch83#0 :  30635\n",
      "ch85#0 :  5\n",
      "ch86#0 :  615\n",
      "ch86#1 :  1155\n",
      "ch87#0 :  598\n",
      "ch88#0 :  22\n",
      "ch89#0 :  1066\n",
      "ch89#1 :  2761\n",
      "ch89#2 :  2363\n",
      "ch90#0 :  1\n",
      "ch91#0 :  152\n",
      "ch93#0 :  5\n",
      "ch94#0 :  1\n",
      "ch95#0 :  21292\n",
      "ch129#0 :  33\n",
      "ch130#0 :  47\n",
      "ch131#0 :  4\n",
      "ch132#0 :  13\n",
      "ch132#1 :  6\n",
      "ch132#2 :  4\n",
      "ch133#0 :  466\n",
      "ch134#0 :  540\n",
      "ch135#0 :  4446\n",
      "ch135#1 :  4331\n",
      "ch135#2 :  4789\n",
      "ch135#3 :  4268\n",
      "ch136#0 :  562\n",
      "ch136#1 :  1927\n",
      "ch137#0 :  2131\n",
      "ch137#1 :  4606\n",
      "ch137#2 :  3330\n",
      "ch137#3 :  416\n",
      "ch138#0 :  226\n",
      "ch139#0 :  70\n",
      "ch140#0 :  66\n",
      "ch141#0 :  1883\n",
      "ch141#1 :  5988\n",
      "ch141#2 :  522\n",
      "ch141#3 :  376\n",
      "ch142#0 :  459\n",
      "ch142#1 :  180\n",
      "ch142#2 :  276\n",
      "ch143#0 :  791\n",
      "ch143#1 :  1201\n",
      "ch143#2 :  958\n",
      "ch143#3 :  571\n",
      "ch144#0 :  55\n",
      "ch145#0 :  2991\n",
      "ch145#1 :  8216\n",
      "ch145#2 :  1367\n",
      "ch145#3 :  650\n",
      "ch146#0 :  4\n",
      "ch147#0 :  677\n",
      "ch147#1 :  1198\n",
      "ch147#2 :  820\n",
      "ch147#3 :  690\n",
      "ch148#0 :  3572\n",
      "ch148#1 :  7658\n",
      "ch148#2 :  3277\n",
      "ch148#3 :  862\n",
      "ch149#0 :  505\n",
      "ch150#0 :  914\n",
      "ch150#1 :  4284\n",
      "ch151#0 :  96\n",
      "ch152#0 :  1\n",
      "ch153#0 :  4496\n",
      "ch153#1 :  21525\n",
      "ch154#0 :  76\n",
      "ch155#0 :  36\n",
      "ch156#0 :  11\n",
      "ch157#0 :  540\n",
      "ch158#0 :  3\n",
      "ch159#0 :  1\n",
      "ch160#0 :  2\n",
      "ch161#0 :  1078\n",
      "ch161#1 :  5221\n",
      "ch162#0 :  1216\n",
      "ch162#1 :  5132\n",
      "ch162#2 :  516\n",
      "ch163#0 :  1763\n",
      "ch163#1 :  9337\n",
      "ch163#2 :  636\n",
      "ch164#0 :  186\n",
      "ch164#1 :  687\n",
      "ch165#0 :  266\n",
      "ch165#1 :  1045\n",
      "ch165#2 :  121\n",
      "ch166#0 :  232\n",
      "ch166#1 :  359\n",
      "ch167#0 :  455\n",
      "ch167#1 :  725\n",
      "ch168#0 :  234\n",
      "ch169#0 :  1382\n",
      "ch169#1 :  3999\n",
      "ch169#2 :  908\n",
      "ch169#3 :  676\n",
      "ch169#4 :  231\n",
      "ch170#0 :  46\n",
      "ch171#0 :  596\n",
      "ch171#1 :  576\n",
      "ch171#2 :  293\n",
      "ch172#0 :  136\n",
      "ch173#0 :  70\n",
      "ch174#0 :  453\n",
      "ch174#1 :  1348\n",
      "ch174#2 :  564\n",
      "ch175#0 :  776\n",
      "ch175#1 :  847\n",
      "ch176#0 :  407\n",
      "ch176#1 :  282\n",
      "ch177#0 :  457\n",
      "ch177#1 :  1092\n",
      "ch178#0 :  1437\n",
      "ch178#1 :  4477\n",
      "ch178#2 :  691\n",
      "ch178#3 :  193\n",
      "ch179#0 :  963\n",
      "ch179#1 :  1386\n",
      "ch179#2 :  448\n",
      "ch179#3 :  376\n",
      "ch179#4 :  376\n",
      "ch180#0 :  209\n",
      "ch180#1 :  358\n",
      "ch181#0 :  614\n",
      "ch181#1 :  1901\n",
      "ch182#0 :  572\n",
      "ch182#1 :  923\n",
      "ch183#0 :  1255\n",
      "ch184#0 :  2\n",
      "ch185#0 :  269\n",
      "ch185#1 :  1171\n",
      "ch186#0 :  97\n",
      "ch187#0 :  163\n",
      "ch188#0 :  47\n",
      "ch189#0 :  32\n",
      "ch190#0 :  198\n",
      "ch190#1 :  401\n",
      "ch191#0 :  67\n",
      "ch192#0 :  44\n",
      "ch193#0 :  7\n",
      "ch194#0 :  581\n",
      "ch194#1 :  1443\n",
      "ch195#0 :  555\n",
      "ch195#1 :  230\n",
      "ch196#0 :  1112\n",
      "ch196#1 :  1420\n",
      "ch196#2 :  211\n",
      "ch197#0 :  615\n",
      "ch197#1 :  1323\n",
      "ch198#0 :  3572\n",
      "ch199#0 :  740\n",
      "ch199#1 :  1392\n",
      "ch199#2 :  1126\n",
      "ch200#0 :  390\n",
      "ch200#1 :  422\n",
      "ch200#2 :  312\n",
      "ch201#0 :  18\n",
      "ch202#0 :  462\n",
      "ch202#1 :  312\n",
      "ch202#2 :  282\n",
      "ch203#0 :  315\n",
      "ch203#1 :  1503\n",
      "ch204#0 :  2440\n",
      "ch204#1 :  3349\n",
      "ch204#2 :  1409\n",
      "ch204#3 :  1022\n",
      "ch205#0 :  270\n",
      "ch205#1 :  921\n",
      "ch206#0 :  6\n",
      "ch207#0 :  31\n",
      "ch208#0 :  21\n",
      "ch209#0 :  176\n",
      "ch210#0 :  453\n",
      "ch210#1 :  964\n",
      "ch211#0 :  253\n",
      "ch212#0 :  225\n",
      "ch212#1 :  700\n",
      "ch213#0 :  1\n",
      "ch214#0 :  1050\n",
      "ch214#1 :  2175\n",
      "ch214#2 :  783\n",
      "ch215#0 :  2\n",
      "ch216#0 :  974\n",
      "ch216#1 :  576\n",
      "ch217#0 :  771\n",
      "ch217#1 :  1397\n",
      "ch218#0 :  2\n",
      "ch219#0 :  875\n",
      "ch219#1 :  3426\n",
      "ch219#2 :  615\n",
      "ch220#0 :  1\n",
      "ch221#0 :  2\n",
      "ch222#0 :  2\n",
      "ch223#0 :  3\n",
      "ch224#0 :  3\n"
     ]
    }
   ],
   "source": [
    "for sp in sp_list:\n",
    "    print(sp.name, \": \", len(sp.times))"
   ]
  },
  {
   "cell_type": "code",
   "execution_count": 1,
   "id": "f264b384",
   "metadata": {},
   "outputs": [],
   "source": [
    "from elephant import statistics as st"
   ]
  },
  {
   "cell_type": "code",
   "execution_count": 42,
   "id": "5c97703d",
   "metadata": {
    "scrolled": false
   },
   "outputs": [
    {
     "name": "stdout",
     "output_type": "stream",
     "text": [
      "Help on function fanofactor in module elephant.statistics:\n",
      "\n",
      "fanofactor(spiketrains, warn_tolerance=array(0.1) * ms)\n",
      "    Evaluates the empirical Fano factor F of the spike counts of\n",
      "    a list of `neo.SpikeTrain` objects.\n",
      "    \n",
      "    Given the vector v containing the observed spike counts (one per\n",
      "    spike train) in the time window [t0, t1], F is defined as:\n",
      "    \n",
      "    .. math::\n",
      "        F := \\frac{var(v)}{mean(v)}\n",
      "    \n",
      "    The Fano factor is typically computed for spike trains representing the\n",
      "    activity of the same neuron over different trials. The higher F, the\n",
      "    larger the cross-trial non-stationarity. In theory for a time-stationary\n",
      "    Poisson process, F=1.\n",
      "    \n",
      "    Parameters\n",
      "    ----------\n",
      "    spiketrains : list\n",
      "        List of `neo.SpikeTrain` or `pq.Quantity` or `np.ndarray` or list of\n",
      "        spike times for which to compute the Fano factor of spike counts.\n",
      "    warn_tolerance : pq.Quantity\n",
      "        In case of a list of input neo.SpikeTrains, if their durations vary by\n",
      "        more than `warn_tolerence` in their absolute values, throw a warning\n",
      "        (see Notes).\n",
      "        Default: 0.1 ms\n",
      "    \n",
      "    Returns\n",
      "    -------\n",
      "    fano : float\n",
      "        The Fano factor of the spike counts of the input spike trains.\n",
      "        Returns np.NaN if an empty list is specified, or if all spike trains\n",
      "        are empty.\n",
      "    \n",
      "    Raises\n",
      "    ------\n",
      "    TypeError\n",
      "        If the input spiketrains are neo.SpikeTrain objects, but\n",
      "        `warn_tolerance` is not a quantity.\n",
      "    \n",
      "    Notes\n",
      "    -----\n",
      "    The check for the equal duration of the input spike trains is performed\n",
      "    only if the input is of type`neo.SpikeTrain`: if you pass a numpy array,\n",
      "    please make sure that they all have the same duration manually.\n",
      "    \n",
      "    Examples\n",
      "    --------\n",
      "    >>> import neo\n",
      "    >>> from elephant import statistics\n",
      "    >>> spiketrains = [\n",
      "    ...     neo.SpikeTrain([0.3, 4.5, 6.7, 9.3], t_stop=10, units='s'),\n",
      "    ...     neo.SpikeTrain([1.4, 3.3, 8.2], t_stop=10, units='s')\n",
      "    ... ]\n",
      "    >>> statistics.fanofactor(spiketrains)\n",
      "    0.07142857142857142\n",
      "\n"
     ]
    }
   ],
   "source": [
    "help(st.fanofactor)"
   ]
  },
  {
   "cell_type": "code",
   "execution_count": 17,
   "id": "b660d7db",
   "metadata": {},
   "outputs": [
    {
     "data": {
      "text/plain": [
       "AnalogSignal with 1 channels of length 1000; units Hz; datatype float64 \n",
       "annotations: {'t_stop': array(10.) * s,\n",
       "  'kernel': {'type': 'GaussianKernel',\n",
       "   'sigma': '0.6393446398835686 s',\n",
       "   'invert': False}}\n",
       "sampling rate: 0.1 1/ms\n",
       "time: 0.0 s to 10.0 s"
      ]
     },
     "execution_count": 17,
     "metadata": {},
     "output_type": "execute_result"
    }
   ],
   "source": [
    "import neo\n",
    "import quantities as pq\n",
    "from elephant import statistics\n",
    "spiketrain = neo.SpikeTrain([0.1, 1.2, 1.4, 1.52, 8.5, 8.7, 9.1], t_stop=10, units='s')\n",
    "rate = statistics.instantaneous_rate(spiketrain, sampling_period=10 * pq.ms, kernel='auto')\n",
    "rate"
   ]
  },
  {
   "cell_type": "code",
   "execution_count": 18,
   "id": "455bd9d4",
   "metadata": {
    "scrolled": true
   },
   "outputs": [
    {
     "data": {
      "image/png": "[encoded data removed]",
      "text/plain": [
       "<Figure size 640x480 with 1 Axes>"
      ]
     },
     "metadata": {},
     "output_type": "display_data"
    }
   ],
   "source": [
    "import matplotlib.pyplot as plt\n",
    "plt.plot(rate.magnitude.flatten())\n",
    "plt.show()"
   ]
  },
  {
   "cell_type": "code",
   "execution_count": 23,
   "id": "cb47b905",
   "metadata": {},
   "outputs": [
    {
     "data": {
      "text/plain": [
       "array([3, 0, 1, 1, 2, 0, 2, 0, 1, 1], dtype=int32)"
      ]
     },
     "execution_count": 23,
     "metadata": {},
     "output_type": "execute_result"
    }
   ],
   "source": [
    "spiketrains = [\n",
    "    neo.SpikeTrain([0.3, 4.5, 6.7, 9.3], t_stop=10, units='s'),\n",
    "    neo.SpikeTrain([0.7, 4.3, 8.2], t_stop=10, units='s'),\n",
    "    neo.SpikeTrain([0.1, 2.3, 3.5, 6.2], t_stop=10, units='s')\n",
    "]\n",
    "hist = statistics.time_histogram(spiketrains, bin_size=1 * pq.s)\n",
    "hist.magnitude.flatten()"
   ]
  },
  {
   "cell_type": "code",
   "execution_count": 25,
   "id": "54032b56",
   "metadata": {
    "scrolled": true
   },
   "outputs": [
    {
     "data": {
      "text/plain": [
       "<BarContainer object of 10 artists>"
      ]
     },
     "execution_count": 25,
     "metadata": {},
     "output_type": "execute_result"
    },
    {
     "data": {
      "image/png": "[encoded data removed]",
      "text/plain": [
       "<Figure size 640x480 with 1 Axes>"
      ]
     },
     "metadata": {},
     "output_type": "display_data"
    }
   ],
   "source": [
    "b = hist.magnitude.flatten()\n",
    "x = list(range(b.shape[0]))\n",
    "plt.bar(x, b)"
   ]
  },
  {
   "cell_type": "code",
   "execution_count": 30,
   "id": "d8911ca3",
   "metadata": {
    "scrolled": true
   },
   "outputs": [
    {
     "data": {
      "text/plain": [
       "{'y': array([0.11682064, 0.11970782, 0.12254538, 0.12532678, 0.12804555,\n",
       "        0.13069529, 0.13326972, 0.13576272, 0.13816832, 0.14048078,\n",
       "        0.14269456, 0.14480442, 0.14680536, 0.14869272, 0.15046216,\n",
       "        0.1521097 , 0.15363173, 0.15502502, 0.15628677, 0.15741458,\n",
       "        0.15840649, 0.15926099, 0.15997699, 0.16055388, 0.16099148,\n",
       "        0.16129005, 0.16145033, 0.16147346, 0.16136103, 0.16111504,\n",
       "        0.1607379 , 0.16023239, 0.15960167, 0.15884925, 0.15797896,\n",
       "        0.15699493, 0.15590159, 0.15470359, 0.15340583, 0.15201341,\n",
       "        0.15053157, 0.14896573, 0.14732139, 0.14560418, 0.14381973,\n",
       "        0.14197376, 0.14007194, 0.13811995, 0.13612342, 0.13408791,\n",
       "        0.13201887, 0.12992165, 0.12780148, 0.12566341, 0.12351234,\n",
       "        0.121353  , 0.1191899 , 0.11702736, 0.11486949, 0.11272017,\n",
       "        0.11058305, 0.10846155, 0.10635885, 0.10427791, 0.10222143,\n",
       "        0.10019189, 0.09819152, 0.09622233, 0.09428611, 0.0923844 ,\n",
       "        0.09051857, 0.08868973, 0.08689883, 0.0851466 , 0.0834336 ,\n",
       "        0.0817602 , 0.0801266 , 0.07853286, 0.07697885, 0.07546434,\n",
       "        0.07398894, 0.07255213, 0.07115329, 0.06979169, 0.06846648,\n",
       "        0.06717674, 0.06592146, 0.06469956, 0.06350988, 0.06235121,\n",
       "        0.06122228, 0.06012178, 0.05904837, 0.05800067, 0.05697727,\n",
       "        0.05597677, 0.05499773, 0.05403872, 0.05309833, 0.05217512,\n",
       "        0.05126772, 0.05037473, 0.04949482, 0.04862667, 0.04776902,\n",
       "        0.04692063, 0.04608035, 0.04524704, 0.04441967, 0.04359723,\n",
       "        0.04277881, 0.04196357, 0.04115073, 0.04033961, 0.0395296 ]),\n",
       " 't': array([0.2       , 0.28070175, 0.36140351, 0.44210526, 0.52280702,\n",
       "        0.60350877, 0.68421053, 0.76491228, 0.84561404, 0.92631579,\n",
       "        1.00701754, 1.0877193 , 1.16842105, 1.24912281, 1.32982456,\n",
       "        1.41052632, 1.49122807, 1.57192982, 1.65263158, 1.73333333,\n",
       "        1.81403509, 1.89473684, 1.9754386 , 2.05614035, 2.13684211,\n",
       "        2.21754386, 2.29824561, 2.37894737, 2.45964912, 2.54035088,\n",
       "        2.62105263, 2.70175439, 2.78245614, 2.86315789, 2.94385965,\n",
       "        3.0245614 , 3.10526316, 3.18596491, 3.26666667, 3.34736842,\n",
       "        3.42807018, 3.50877193, 3.58947368, 3.67017544, 3.75087719,\n",
       "        3.83157895, 3.9122807 , 3.99298246, 4.07368421, 4.15438596,\n",
       "        4.23508772, 4.31578947, 4.39649123, 4.47719298, 4.55789474,\n",
       "        4.63859649, 4.71929825, 4.8       , 4.88070175, 4.96140351,\n",
       "        5.04210526, 5.12280702, 5.20350877, 5.28421053, 5.36491228,\n",
       "        5.44561404, 5.52631579, 5.60701754, 5.6877193 , 5.76842105,\n",
       "        5.84912281, 5.92982456, 6.01052632, 6.09122807, 6.17192982,\n",
       "        6.25263158, 6.33333333, 6.41403509, 6.49473684, 6.5754386 ,\n",
       "        6.65614035, 6.73684211, 6.81754386, 6.89824561, 6.97894737,\n",
       "        7.05964912, 7.14035088, 7.22105263, 7.30175439, 7.38245614,\n",
       "        7.46315789, 7.54385965, 7.6245614 , 7.70526316, 7.78596491,\n",
       "        7.86666667, 7.94736842, 8.02807018, 8.10877193, 8.18947368,\n",
       "        8.27017544, 8.35087719, 8.43157895, 8.5122807 , 8.59298246,\n",
       "        8.67368421, 8.75438596, 8.83508772, 8.91578947, 8.99649123,\n",
       "        9.07719298, 9.15789474, 9.23859649, 9.31929825, 9.4       ]),\n",
       " 'optw': 2.2588410402281984,\n",
       " 'w': array([1.19955834, 3.45609313, 1.97672702, 2.87247831, 2.30911984,\n",
       "        2.1804361 , 2.389592  , 2.25973628, 2.2293561 , 2.27856643,\n",
       "        2.24811919, 2.26692393, 2.25529708, 2.26248101, 2.25804039,\n",
       "        2.25699243, 2.25868812, 2.25908847, 2.2584407 , 2.25884104]),\n",
       " 'C': array([-6.29875245, -6.57137251, -6.79076963, -6.7337692 , -6.81924952,\n",
       "        -6.81800714, -6.81495226, -6.82003853, -6.81976113, -6.81991397,\n",
       "        -6.82000334, -6.82001722, -6.8200353 , -6.82003425, -6.82003878,\n",
       "        -6.82003802, -6.8200389 , -6.82003884, -6.82003889, -6.82003889]),\n",
       " 'confb95': None,\n",
       " 'yb': None}"
      ]
     },
     "execution_count": 30,
     "metadata": {},
     "output_type": "execute_result"
    }
   ],
   "source": [
    "import numpy as np\n",
    "sp = np.array([0.2, 1.3, 2.1, 2.3, 2.45, 2.53, 4.7, 6.3, 9.4])\n",
    "statistics.optimal_kernel_bandwidth(sp)"
   ]
  },
  {
   "cell_type": "code",
   "execution_count": 39,
   "id": "8e1959aa",
   "metadata": {},
   "outputs": [
    {
     "data": {
      "text/plain": [
       "0.2800087199554663"
      ]
     },
     "execution_count": 39,
     "metadata": {},
     "output_type": "execute_result"
    }
   ],
   "source": [
    "statistics.lv(sp)"
   ]
  },
  {
   "cell_type": "markdown",
   "id": "ab531b14",
   "metadata": {},
   "source": [
    "### Complexity"
   ]
  },
  {
   "cell_type": "code",
   "execution_count": 1,
   "id": "f662262d",
   "metadata": {},
   "outputs": [],
   "source": [
    "import neo\n",
    "import quantities as pq\n",
    "from elephant.statistics import Complexity"
   ]
  },
  {
   "cell_type": "code",
   "execution_count": 27,
   "id": "40353e74",
   "metadata": {},
   "outputs": [
    {
     "data": {
      "text/plain": [
       "[SpikeTrain containing 7 spikes; units ms; datatype float64 \n",
       " time: 0.0 ms to 10.0 ms,\n",
       " SpikeTrain containing 8 spikes; units ms; datatype float64 \n",
       " time: 0.0 ms to 10.0 ms]"
      ]
     },
     "execution_count": 27,
     "metadata": {},
     "output_type": "execute_result"
    }
   ],
   "source": [
    "sampling_rate = 1/pq.ms\n",
    "st1 = neo.SpikeTrain(\n",
    "    [0.7, 1.3, 1.5, 3, 3.3, 6.7, 9.4] * pq.ms, \n",
    "    t_stop=10.0 * pq.ms)\n",
    "st2 = neo.SpikeTrain(\n",
    "    [0.4, 2.2, 2.5, 2.8, 3.1, 7.9, 8.1, 9.7] * pq.ms, \n",
    "    t_stop=10.0 * pq.ms)\n",
    "sts = [st1, st2]\n",
    "sts"
   ]
  },
  {
   "cell_type": "code",
   "execution_count": 28,
   "id": "e55c2555",
   "metadata": {},
   "outputs": [],
   "source": [
    "cpx = Complexity(sts, sampling_rate=sampling_rate, spread=1)"
   ]
  },
  {
   "cell_type": "code",
   "execution_count": 29,
   "id": "3291f360",
   "metadata": {},
   "outputs": [
    {
     "data": {
      "text/plain": [
       "array([2, 0, 0, 0, 0, 1, 1], dtype=int64)"
      ]
     },
     "execution_count": 29,
     "metadata": {},
     "output_type": "execute_result"
    }
   ],
   "source": [
    "cpx.complexity_histogram"
   ]
  },
  {
   "cell_type": "code",
   "execution_count": 30,
   "id": "8089a692",
   "metadata": {},
   "outputs": [
    {
     "name": "stdout",
     "output_type": "stream",
     "text": [
      "[6 6 6 6 0 0 5 5 5 5] dimensionless\n"
     ]
    }
   ],
   "source": [
    "print(cpx.time_histogram.flatten())"
   ]
  },
  {
   "cell_type": "code",
   "execution_count": 33,
   "id": "4cbe3ea4",
   "metadata": {},
   "outputs": [
    {
     "data": {
      "text/plain": [
       "array([0.5 , 0.  , 0.  , 0.  , 0.  , 0.25, 0.25])"
      ]
     },
     "execution_count": 33,
     "metadata": {},
     "output_type": "execute_result"
    }
   ],
   "source": [
    "cpx.pdf().magnitude.flatten()"
   ]
  },
  {
   "cell_type": "code",
   "execution_count": null,
   "id": "3aa4a96f",
   "metadata": {},
   "outputs": [],
   "source": []
  }
 ],
 "metadata": {
  "kernelspec": {
   "display_name": "Python 3 (ipykernel)",
   "language": "python",
   "name": "python3"
  },
  "language_info": {
   "codemirror_mode": {
    "name": "ipython",
    "version": 3
   },
   "file_extension": ".py",
   "mimetype": "text/x-python",
   "name": "python",
   "nbconvert_exporter": "python",
   "pygments_lexer": "ipython3",
   "version": "3.8.16"
  }
 },
 "nbformat": 4,
 "nbformat_minor": 5
}
