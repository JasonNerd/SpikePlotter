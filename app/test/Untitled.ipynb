{
 "cells": [
  {
   "cell_type": "markdown",
   "id": "17dd201e",
   "metadata": {},
   "source": [
    "## 使用elephant读取nwb文件"
   ]
  },
  {
   "cell_type": "code",
   "execution_count": 1,
   "id": "635f788e",
   "metadata": {},
   "outputs": [
    {
     "data": {
      "text/plain": [
       "('D:/datasets/SpikeData/nwb_sample/sub-210862_ses-20130626_behavior+ecephys+ogen.nwb',\n",
       " 20)"
      ]
     },
     "execution_count": 1,
     "metadata": {},
     "output_type": "execute_result"
    }
   ],
   "source": [
    "# 1. 数据文件列表\n",
    "import os\n",
    "root = \"D:/datasets/SpikeData/nwb_sample/\"\n",
    "fls = os.listdir(root)\n",
    "fls = [root+f for f in fls]\n",
    "fls[0], len(fls)"
   ]
  },
  {
   "cell_type": "code",
   "execution_count": 15,
   "id": "ec1d7c73",
   "metadata": {},
   "outputs": [
    {
     "data": {
      "text/plain": [
       "'D:/datasets/SpikeData/nwb_sample/sub-210862_ses-20130626_behavior+ecephys+ogen.nwb'"
      ]
     },
     "execution_count": 15,
     "metadata": {},
     "output_type": "execute_result"
    }
   ],
   "source": [
    "nwb_file = fls[0]\n",
    "nwb_file"
   ]
  },
  {
   "cell_type": "code",
   "execution_count": 16,
   "id": "c9051fde",
   "metadata": {},
   "outputs": [
    {
     "data": {
      "text/plain": [
       "<neo.io.nwbio.NWBIO at 0x21abbb58df0>"
      ]
     },
     "execution_count": 16,
     "metadata": {},
     "output_type": "execute_result"
    }
   ],
   "source": [
    "import neo\n",
    "io = neo.io.NWBIO(nwb_file)\n",
    "io"
   ]
  },
  {
   "cell_type": "code",
   "execution_count": 17,
   "id": "81fc71aa",
   "metadata": {},
   "outputs": [
    {
     "name": "stderr",
     "output_type": "stream",
     "text": [
      "D:\\User\\mrrai\\.conda\\envs\\Elephant\\lib\\site-packages\\hdmf\\spec\\namespace.py:531: UserWarning: Ignoring cached namespace 'core' version 2.1.0 because version 2.6.0-alpha is already loaded.\n",
      "  warn(\"Ignoring cached namespace '%s' version %s because version %s is already loaded.\"\n"
     ]
    },
    {
     "ename": "AttributeError",
     "evalue": "'BehavioralEvents' object has no attribute 'comments'",
     "output_type": "error",
     "traceback": [
      "\u001b[1;31m---------------------------------------------------------------------------\u001b[0m",
      "\u001b[1;31mAttributeError\u001b[0m                            Traceback (most recent call last)",
      "Cell \u001b[1;32mIn[17], line 1\u001b[0m\n\u001b[1;32m----> 1\u001b[0m blk \u001b[38;5;241m=\u001b[39m \u001b[43mio\u001b[49m\u001b[38;5;241;43m.\u001b[39;49m\u001b[43mread_all_blocks\u001b[49m\u001b[43m(\u001b[49m\u001b[43m)\u001b[49m\n",
      "File \u001b[1;32mD:\\User\\mrrai\\.conda\\envs\\Elephant\\lib\\site-packages\\neo\\io\\nwbio.py:258\u001b[0m, in \u001b[0;36mNWBIO.read_all_blocks\u001b[1;34m(self, lazy, **kwargs)\u001b[0m\n\u001b[0;32m    254\u001b[0m     \u001b[38;5;28mself\u001b[39m\u001b[38;5;241m.\u001b[39mglobal_block_metadata[\u001b[38;5;124m\"\u001b[39m\u001b[38;5;124mfile_datetime\u001b[39m\u001b[38;5;124m\"\u001b[39m] \u001b[38;5;241m=\u001b[39m \u001b[38;5;28mself\u001b[39m\u001b[38;5;241m.\u001b[39mglobal_block_metadata[\n\u001b[0;32m    255\u001b[0m         \u001b[38;5;124m\"\u001b[39m\u001b[38;5;124mrec_datetime\u001b[39m\u001b[38;5;124m\"\u001b[39m]\n\u001b[0;32m    257\u001b[0m \u001b[38;5;28mself\u001b[39m\u001b[38;5;241m.\u001b[39m_blocks \u001b[38;5;241m=\u001b[39m {}\n\u001b[1;32m--> 258\u001b[0m \u001b[38;5;28;43mself\u001b[39;49m\u001b[38;5;241;43m.\u001b[39;49m\u001b[43m_read_acquisition_group\u001b[49m\u001b[43m(\u001b[49m\u001b[43mlazy\u001b[49m\u001b[38;5;241;43m=\u001b[39;49m\u001b[43mlazy\u001b[49m\u001b[43m)\u001b[49m\n\u001b[0;32m    259\u001b[0m \u001b[38;5;28mself\u001b[39m\u001b[38;5;241m.\u001b[39m_read_stimulus_group(lazy)\n\u001b[0;32m    260\u001b[0m \u001b[38;5;28mself\u001b[39m\u001b[38;5;241m.\u001b[39m_read_units(lazy\u001b[38;5;241m=\u001b[39mlazy)\n",
      "File \u001b[1;32mD:\\User\\mrrai\\.conda\\envs\\Elephant\\lib\\site-packages\\neo\\io\\nwbio.py:382\u001b[0m, in \u001b[0;36mNWBIO._read_acquisition_group\u001b[1;34m(self, lazy)\u001b[0m\n\u001b[0;32m    381\u001b[0m \u001b[38;5;28;01mdef\u001b[39;00m \u001b[38;5;21m_read_acquisition_group\u001b[39m(\u001b[38;5;28mself\u001b[39m, lazy):\n\u001b[1;32m--> 382\u001b[0m     \u001b[38;5;28;43mself\u001b[39;49m\u001b[38;5;241;43m.\u001b[39;49m\u001b[43m_read_timeseries_group\u001b[49m\u001b[43m(\u001b[49m\u001b[38;5;124;43m\"\u001b[39;49m\u001b[38;5;124;43macquisition\u001b[39;49m\u001b[38;5;124;43m\"\u001b[39;49m\u001b[43m,\u001b[49m\u001b[43m \u001b[49m\u001b[43mlazy\u001b[49m\u001b[43m)\u001b[49m\n",
      "File \u001b[1;32mD:\\User\\mrrai\\.conda\\envs\\Elephant\\lib\\site-packages\\neo\\io\\nwbio.py:331\u001b[0m, in \u001b[0;36mNWBIO._read_timeseries_group\u001b[1;34m(self, group_name, lazy)\u001b[0m\n\u001b[0;32m    328\u001b[0m \u001b[38;5;28;01mfor\u001b[39;00m timeseries \u001b[38;5;129;01min\u001b[39;00m group\u001b[38;5;241m.\u001b[39mvalues():\n\u001b[0;32m    329\u001b[0m     \u001b[38;5;28;01mtry\u001b[39;00m:\n\u001b[0;32m    330\u001b[0m         \u001b[38;5;66;03m# NWB files created by Neo store the segment and block names in the comments field\u001b[39;00m\n\u001b[1;32m--> 331\u001b[0m         hierarchy \u001b[38;5;241m=\u001b[39m json\u001b[38;5;241m.\u001b[39mloads(\u001b[43mtimeseries\u001b[49m\u001b[38;5;241;43m.\u001b[39;49m\u001b[43mcomments\u001b[49m)\n\u001b[0;32m    332\u001b[0m     \u001b[38;5;28;01mexcept\u001b[39;00m JSONDecodeError:\n\u001b[0;32m    333\u001b[0m         \u001b[38;5;66;03m# For NWB files created with other applications, we put everything in a single\u001b[39;00m\n\u001b[0;32m    334\u001b[0m         \u001b[38;5;66;03m# segment in a single block\u001b[39;00m\n\u001b[0;32m    335\u001b[0m         \u001b[38;5;66;03m# todo: investigate whether there is a reliable way to create multiple segments,\u001b[39;00m\n\u001b[0;32m    336\u001b[0m         \u001b[38;5;66;03m#       e.g. using Trial information\u001b[39;00m\n\u001b[0;32m    337\u001b[0m         block_name \u001b[38;5;241m=\u001b[39m \u001b[38;5;124m\"\u001b[39m\u001b[38;5;124mdefault\u001b[39m\u001b[38;5;124m\"\u001b[39m\n",
      "\u001b[1;31mAttributeError\u001b[0m: 'BehavioralEvents' object has no attribute 'comments'"
     ]
    }
   ],
   "source": [
    "blk = io.read_all_blocks()"
   ]
  },
  {
   "cell_type": "code",
   "execution_count": 14,
   "id": "e73c87f9",
   "metadata": {},
   "outputs": [],
   "source": [
    "blk"
   ]
  },
  {
   "cell_type": "code",
   "execution_count": 17,
   "id": "4e48e3ed",
   "metadata": {},
   "outputs": [
    {
     "data": {
      "text/plain": [
       "(Segment with 3 events, 267 spiketrains\n",
       " name: 'Segment 0'\n",
       " description: 'Segment containing data from t_start to t_stop'\n",
       " # analogsignals (N=0),)"
      ]
     },
     "execution_count": 17,
     "metadata": {},
     "output_type": "execute_result"
    }
   ],
   "source": [
    "blk.container_children"
   ]
  },
  {
   "cell_type": "code",
   "execution_count": 19,
   "id": "3578f5b5",
   "metadata": {},
   "outputs": [
    {
     "data": {
      "text/plain": [
       "list"
      ]
     },
     "execution_count": 19,
     "metadata": {},
     "output_type": "execute_result"
    }
   ],
   "source": [
    "type(blk.segments)"
   ]
  },
  {
   "cell_type": "code",
   "execution_count": 20,
   "id": "4f20dab9",
   "metadata": {},
   "outputs": [
    {
     "data": {
      "text/plain": [
       "Segment with 3 events, 267 spiketrains\n",
       "name: 'Segment 0'\n",
       "description: 'Segment containing data from t_start to t_stop'\n",
       "# analogsignals (N=0)"
      ]
     },
     "execution_count": 20,
     "metadata": {},
     "output_type": "execute_result"
    }
   ],
   "source": [
    "blk.segments[0]"
   ]
  },
  {
   "cell_type": "code",
   "execution_count": 21,
   "id": "ac73b1e8",
   "metadata": {},
   "outputs": [
    {
     "data": {
      "text/plain": [
       "neo.core.segment.Segment"
      ]
     },
     "execution_count": 21,
     "metadata": {},
     "output_type": "execute_result"
    }
   ],
   "source": [
    "blk_seg0 = blk.segments[0]\n",
    "type(blk_seg0)"
   ]
  },
  {
   "cell_type": "code",
   "execution_count": 28,
   "id": "c55a2ecf",
   "metadata": {},
   "outputs": [
    {
     "data": {
      "text/plain": [
       "<neo.core.spiketrainlist.SpikeTrainList at 0x217c3c58340>"
      ]
     },
     "execution_count": 28,
     "metadata": {},
     "output_type": "execute_result"
    }
   ],
   "source": [
    "blk_seg0.spiketrains"
   ]
  },
  {
   "cell_type": "code",
   "execution_count": 33,
   "id": "2acdde70",
   "metadata": {},
   "outputs": [
    {
     "data": {
      "text/plain": [
       "SpikeTrain containing 2 spikes; units s; datatype float64 \n",
       "name: 'ch2#0'\n",
       "description: 'SpikeTrain channel_id: 2, unit_id: 0'\n",
       "annotations: {'id': 'Unit 2000',\n",
       "  'channel_id': 2,\n",
       "  'unit_id': 0,\n",
       "  'unit_tag': 'unclassified'}\n",
       "time: 0.021733333333333334 s to 908.2021333333333 s"
      ]
     },
     "execution_count": 33,
     "metadata": {},
     "output_type": "execute_result"
    }
   ],
   "source": [
    "sp = blk_seg0.spiketrains\n",
    "sp[0]"
   ]
  },
  {
   "cell_type": "code",
   "execution_count": 49,
   "id": "faf0e6ce",
   "metadata": {},
   "outputs": [
    {
     "data": {
      "text/plain": [
       "(267, 'ch8#0', array(0.02173333) * s, array(908.20213333) * s, 1)"
      ]
     },
     "execution_count": 49,
     "metadata": {},
     "output_type": "execute_result"
    }
   ],
   "source": [
    "sp_list = list(sp)\n",
    "sp0 = sp_list[8]\n",
    "len(sp_list), sp0.t_start, sp0.t_stop, len(sp0.times)"
   ]
  },
  {
   "cell_type": "code",
   "execution_count": 51,
   "id": "bdfd895d",
   "metadata": {},
   "outputs": [
    {
     "name": "stdout",
     "output_type": "stream",
     "text": [
      "ch2#0 :  2\n",
      "ch4#0 :  242\n",
      "ch4#1 :  317\n",
      "ch4#2 :  257\n",
      "ch5#0 :  30\n",
      "ch6#0 :  286\n",
      "ch6#1 :  918\n",
      "ch7#0 :  13\n",
      "ch8#0 :  1\n",
      "ch11#0 :  2\n",
      "ch16#0 :  6\n",
      "ch17#0 :  687\n",
      "ch17#1 :  276\n",
      "ch18#0 :  48\n",
      "ch25#0 :  2\n",
      "ch30#0 :  9\n",
      "ch32#0 :  795\n",
      "ch33#0 :  24\n",
      "ch34#0 :  7\n",
      "ch35#0 :  806\n",
      "ch35#1 :  1818\n",
      "ch36#0 :  265\n",
      "ch36#1 :  242\n",
      "ch37#0 :  5\n",
      "ch40#0 :  1\n",
      "ch42#0 :  6\n",
      "ch45#0 :  296\n",
      "ch45#1 :  1200\n",
      "ch47#0 :  1\n",
      "ch49#0 :  272\n",
      "ch51#0 :  175\n",
      "ch51#1 :  151\n",
      "ch53#0 :  3185\n",
      "ch53#1 :  2406\n",
      "ch53#2 :  1507\n",
      "ch54#0 :  3\n",
      "ch55#0 :  3038\n",
      "ch55#1 :  2426\n",
      "ch55#2 :  1139\n",
      "ch56#0 :  17\n",
      "ch57#0 :  490\n",
      "ch57#1 :  303\n",
      "ch57#2 :  315\n",
      "ch58#0 :  7\n",
      "ch59#0 :  45\n",
      "ch60#0 :  14\n",
      "ch61#0 :  645\n",
      "ch61#1 :  823\n",
      "ch63#0 :  1\n",
      "ch64#0 :  14\n",
      "ch65#0 :  640\n",
      "ch65#1 :  883\n",
      "ch65#2 :  537\n",
      "ch66#0 :  460\n",
      "ch68#0 :  10\n",
      "ch69#0 :  634\n",
      "ch69#1 :  3153\n",
      "ch70#0 :  2\n",
      "ch72#0 :  51\n",
      "ch73#0 :  896\n",
      "ch73#1 :  3576\n",
      "ch74#0 :  1131\n",
      "ch74#1 :  2592\n",
      "ch74#2 :  220\n",
      "ch75#0 :  72\n",
      "ch76#0 :  118\n",
      "ch77#0 :  4\n",
      "ch78#0 :  252\n",
      "ch80#0 :  865\n",
      "ch80#1 :  1972\n",
      "ch81#0 :  28\n",
      "ch82#0 :  229\n",
      "ch83#0 :  30635\n",
      "ch85#0 :  5\n",
      "ch86#0 :  615\n",
      "ch86#1 :  1155\n",
      "ch87#0 :  598\n",
      "ch88#0 :  22\n",
      "ch89#0 :  1066\n",
      "ch89#1 :  2761\n",
      "ch89#2 :  2363\n",
      "ch90#0 :  1\n",
      "ch91#0 :  152\n",
      "ch93#0 :  5\n",
      "ch94#0 :  1\n",
      "ch95#0 :  21292\n",
      "ch129#0 :  33\n",
      "ch130#0 :  47\n",
      "ch131#0 :  4\n",
      "ch132#0 :  13\n",
      "ch132#1 :  6\n",
      "ch132#2 :  4\n",
      "ch133#0 :  466\n",
      "ch134#0 :  540\n",
      "ch135#0 :  4446\n",
      "ch135#1 :  4331\n",
      "ch135#2 :  4789\n",
      "ch135#3 :  4268\n",
      "ch136#0 :  562\n",
      "ch136#1 :  1927\n",
      "ch137#0 :  2131\n",
      "ch137#1 :  4606\n",
      "ch137#2 :  3330\n",
      "ch137#3 :  416\n",
      "ch138#0 :  226\n",
      "ch139#0 :  70\n",
      "ch140#0 :  66\n",
      "ch141#0 :  1883\n",
      "ch141#1 :  5988\n",
      "ch141#2 :  522\n",
      "ch141#3 :  376\n",
      "ch142#0 :  459\n",
      "ch142#1 :  180\n",
      "ch142#2 :  276\n",
      "ch143#0 :  791\n",
      "ch143#1 :  1201\n",
      "ch143#2 :  958\n",
      "ch143#3 :  571\n",
      "ch144#0 :  55\n",
      "ch145#0 :  2991\n",
      "ch145#1 :  8216\n",
      "ch145#2 :  1367\n",
      "ch145#3 :  650\n",
      "ch146#0 :  4\n",
      "ch147#0 :  677\n",
      "ch147#1 :  1198\n",
      "ch147#2 :  820\n",
      "ch147#3 :  690\n",
      "ch148#0 :  3572\n",
      "ch148#1 :  7658\n",
      "ch148#2 :  3277\n",
      "ch148#3 :  862\n",
      "ch149#0 :  505\n",
      "ch150#0 :  914\n",
      "ch150#1 :  4284\n",
      "ch151#0 :  96\n",
      "ch152#0 :  1\n",
      "ch153#0 :  4496\n",
      "ch153#1 :  21525\n",
      "ch154#0 :  76\n",
      "ch155#0 :  36\n",
      "ch156#0 :  11\n",
      "ch157#0 :  540\n",
      "ch158#0 :  3\n",
      "ch159#0 :  1\n",
      "ch160#0 :  2\n",
      "ch161#0 :  1078\n",
      "ch161#1 :  5221\n",
      "ch162#0 :  1216\n",
      "ch162#1 :  5132\n",
      "ch162#2 :  516\n",
      "ch163#0 :  1763\n",
      "ch163#1 :  9337\n",
      "ch163#2 :  636\n",
      "ch164#0 :  186\n",
      "ch164#1 :  687\n",
      "ch165#0 :  266\n",
      "ch165#1 :  1045\n",
      "ch165#2 :  121\n",
      "ch166#0 :  232\n",
      "ch166#1 :  359\n",
      "ch167#0 :  455\n",
      "ch167#1 :  725\n",
      "ch168#0 :  234\n",
      "ch169#0 :  1382\n",
      "ch169#1 :  3999\n",
      "ch169#2 :  908\n",
      "ch169#3 :  676\n",
      "ch169#4 :  231\n",
      "ch170#0 :  46\n",
      "ch171#0 :  596\n",
      "ch171#1 :  576\n",
      "ch171#2 :  293\n",
      "ch172#0 :  136\n",
      "ch173#0 :  70\n",
      "ch174#0 :  453\n",
      "ch174#1 :  1348\n",
      "ch174#2 :  564\n",
      "ch175#0 :  776\n",
      "ch175#1 :  847\n",
      "ch176#0 :  407\n",
      "ch176#1 :  282\n",
      "ch177#0 :  457\n",
      "ch177#1 :  1092\n",
      "ch178#0 :  1437\n",
      "ch178#1 :  4477\n",
      "ch178#2 :  691\n",
      "ch178#3 :  193\n",
      "ch179#0 :  963\n",
      "ch179#1 :  1386\n",
      "ch179#2 :  448\n",
      "ch179#3 :  376\n",
      "ch179#4 :  376\n",
      "ch180#0 :  209\n",
      "ch180#1 :  358\n",
      "ch181#0 :  614\n",
      "ch181#1 :  1901\n",
      "ch182#0 :  572\n",
      "ch182#1 :  923\n",
      "ch183#0 :  1255\n",
      "ch184#0 :  2\n",
      "ch185#0 :  269\n",
      "ch185#1 :  1171\n",
      "ch186#0 :  97\n",
      "ch187#0 :  163\n",
      "ch188#0 :  47\n",
      "ch189#0 :  32\n",
      "ch190#0 :  198\n",
      "ch190#1 :  401\n",
      "ch191#0 :  67\n",
      "ch192#0 :  44\n",
      "ch193#0 :  7\n",
      "ch194#0 :  581\n",
      "ch194#1 :  1443\n",
      "ch195#0 :  555\n",
      "ch195#1 :  230\n",
      "ch196#0 :  1112\n",
      "ch196#1 :  1420\n",
      "ch196#2 :  211\n",
      "ch197#0 :  615\n",
      "ch197#1 :  1323\n",
      "ch198#0 :  3572\n",
      "ch199#0 :  740\n",
      "ch199#1 :  1392\n",
      "ch199#2 :  1126\n",
      "ch200#0 :  390\n",
      "ch200#1 :  422\n",
      "ch200#2 :  312\n",
      "ch201#0 :  18\n",
      "ch202#0 :  462\n",
      "ch202#1 :  312\n",
      "ch202#2 :  282\n",
      "ch203#0 :  315\n",
      "ch203#1 :  1503\n",
      "ch204#0 :  2440\n",
      "ch204#1 :  3349\n",
      "ch204#2 :  1409\n",
      "ch204#3 :  1022\n",
      "ch205#0 :  270\n",
      "ch205#1 :  921\n",
      "ch206#0 :  6\n",
      "ch207#0 :  31\n",
      "ch208#0 :  21\n",
      "ch209#0 :  176\n",
      "ch210#0 :  453\n",
      "ch210#1 :  964\n",
      "ch211#0 :  253\n",
      "ch212#0 :  225\n",
      "ch212#1 :  700\n",
      "ch213#0 :  1\n",
      "ch214#0 :  1050\n",
      "ch214#1 :  2175\n",
      "ch214#2 :  783\n",
      "ch215#0 :  2\n",
      "ch216#0 :  974\n",
      "ch216#1 :  576\n",
      "ch217#0 :  771\n",
      "ch217#1 :  1397\n",
      "ch218#0 :  2\n",
      "ch219#0 :  875\n",
      "ch219#1 :  3426\n",
      "ch219#2 :  615\n",
      "ch220#0 :  1\n",
      "ch221#0 :  2\n",
      "ch222#0 :  2\n",
      "ch223#0 :  3\n",
      "ch224#0 :  3\n"
     ]
    }
   ],
   "source": [
    "for sp in sp_list:\n",
    "    print(sp.name, \": \", len(sp.times))"
   ]
  },
  {
   "cell_type": "code",
   "execution_count": null,
   "id": "f264b384",
   "metadata": {},
   "outputs": [],
   "source": []
  }
 ],
 "metadata": {
  "kernelspec": {
   "display_name": "Python 3 (ipykernel)",
   "language": "python",
   "name": "python3"
  },
  "language_info": {
   "codemirror_mode": {
    "name": "ipython",
    "version": 3
   },
   "file_extension": ".py",
   "mimetype": "text/x-python",
   "name": "python",
   "nbconvert_exporter": "python",
   "pygments_lexer": "ipython3",
   "version": "3.8.16"
  }
 },
 "nbformat": 4,
 "nbformat_minor": 5
}
