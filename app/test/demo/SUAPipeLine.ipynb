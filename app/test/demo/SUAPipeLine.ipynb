{
 "cells": [
  {
   "cell_type": "code",
   "execution_count": 8,
   "id": "a248bf37",
   "metadata": {},
   "outputs": [
    {
     "data": {
      "text/plain": [
       "['D:\\\\User\\\\mrrai\\\\project\\\\spike-analysis\\\\SpikePlotter\\\\app\\\\test\\\\demo',\n",
       " 'D:\\\\User\\\\mrrai\\\\.conda\\\\envs\\\\Elephant\\\\python38.zip',\n",
       " 'D:\\\\User\\\\mrrai\\\\.conda\\\\envs\\\\Elephant\\\\DLLs',\n",
       " 'D:\\\\User\\\\mrrai\\\\.conda\\\\envs\\\\Elephant\\\\lib',\n",
       " 'D:\\\\User\\\\mrrai\\\\.conda\\\\envs\\\\Elephant',\n",
       " '',\n",
       " 'D:\\\\User\\\\mrrai\\\\.conda\\\\envs\\\\Elephant\\\\lib\\\\site-packages',\n",
       " 'D:\\\\User\\\\mrrai\\\\.conda\\\\envs\\\\Elephant\\\\lib\\\\site-packages\\\\win32',\n",
       " 'D:\\\\User\\\\mrrai\\\\.conda\\\\envs\\\\Elephant\\\\lib\\\\site-packages\\\\win32\\\\lib',\n",
       " 'D:\\\\User\\\\mrrai\\\\.conda\\\\envs\\\\Elephant\\\\lib\\\\site-packages\\\\Pythonwin',\n",
       " '.../',\n",
       " '../../']"
      ]
     },
     "execution_count": 8,
     "metadata": {},
     "output_type": "execute_result"
    }
   ],
   "source": [
    "import sys\n",
    "sys.path.append('../../')\n",
    "sys.path"
   ]
  },
  {
   "cell_type": "code",
   "execution_count": 9,
   "id": "23f030c8",
   "metadata": {},
   "outputs": [],
   "source": [
    "import spikePy"
   ]
  },
  {
   "cell_type": "code",
   "execution_count": null,
   "id": "45cd7f99",
   "metadata": {},
   "outputs": [],
   "source": []
  }
 ],
 "metadata": {
  "kernelspec": {
   "display_name": "Python 3 (ipykernel)",
   "language": "python",
   "name": "python3"
  },
  "language_info": {
   "codemirror_mode": {
    "name": "ipython",
    "version": 3
   },
   "file_extension": ".py",
   "mimetype": "text/x-python",
   "name": "python",
   "nbconvert_exporter": "python",
   "pygments_lexer": "ipython3",
   "version": "3.8.16"
  }
 },
 "nbformat": 4,
 "nbformat_minor": 5
}
