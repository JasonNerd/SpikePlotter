{
 "cells": [
  {
   "cell_type": "code",
   "execution_count": 1,
   "id": "96869b0d",
   "metadata": {},
   "outputs": [
    {
     "data": {
      "text/plain": [
       "<HDF5 file \"indy_20161026_03.nwb\" (mode r)>"
      ]
     },
     "execution_count": 1,
     "metadata": {},
     "output_type": "execute_result"
    }
   ],
   "source": [
    "import h5py\n",
    "\n",
    "path = \"D:/datasets/indy/indy_20161026_03.nwb\"\n",
    "file = h5py.File(path)\n",
    "file"
   ]
  },
  {
   "cell_type": "code",
   "execution_count": 2,
   "id": "121d2b0b",
   "metadata": {},
   "outputs": [
    {
     "data": {
      "text/plain": [
       "<KeysViewHDF5 ['acquisition', 'analysis', 'epochs', 'file_create_date', 'general', 'identifier', 'nwb_version', 'processing', 'session_description', 'session_start_time', 'stimulus']>"
      ]
     },
     "execution_count": 2,
     "metadata": {},
     "output_type": "execute_result"
    }
   ],
   "source": [
    "file.keys()"
   ]
  },
  {
   "cell_type": "code",
   "execution_count": 26,
   "id": "fa8c8f9f",
   "metadata": {},
   "outputs": [
    {
     "data": {
      "text/plain": [
       "<HDF5 dataset \"num_samples\": shape (), type \"<i4\">"
      ]
     },
     "execution_count": 26,
     "metadata": {},
     "output_type": "execute_result"
    }
   ],
   "source": [
    "file['acquisition'].get('timeseries').get(\"broadband\").get('num_samples')"
   ]
  },
  {
   "cell_type": "code",
   "execution_count": 14,
   "id": "6fcf5c49",
   "metadata": {},
   "outputs": [
    {
     "data": {
      "text/html": [
       "<div>\n",
       "<style scoped>\n",
       "    .dataframe tbody tr th:only-of-type {\n",
       "        vertical-align: middle;\n",
       "    }\n",
       "\n",
       "    .dataframe tbody tr th {\n",
       "        vertical-align: top;\n",
       "    }\n",
       "\n",
       "    .dataframe thead th {\n",
       "        text-align: right;\n",
       "    }\n",
       "</style>\n",
       "<table border=\"1\" class=\"dataframe\">\n",
       "  <thead>\n",
       "    <tr style=\"text-align: right;\">\n",
       "      <th></th>\n",
       "      <th>heldout</th>\n",
       "      <th>spike_times</th>\n",
       "      <th>obs_intervals</th>\n",
       "      <th>electrodes</th>\n",
       "    </tr>\n",
       "    <tr>\n",
       "      <th>id</th>\n",
       "      <th></th>\n",
       "      <th></th>\n",
       "      <th></th>\n",
       "      <th></th>\n",
       "    </tr>\n",
       "  </thead>\n",
       "  <tbody>\n",
       "    <tr>\n",
       "      <th>201</th>\n",
       "      <td>True</td>\n",
       "      <td>[0.13685367, 0.63582305, 0.94940944, 1.0112174...</td>\n",
       "      <td>[[0.0, 162.2], [162.3, 324.5], [324.6, 486.8],...</td>\n",
       "      <td>x   y   z  imp location filtering        ...</td>\n",
       "    </tr>\n",
       "    <tr>\n",
       "      <th>203</th>\n",
       "      <td>True</td>\n",
       "      <td>[0.04453082, 0.15082088, 0.20324912, 0.2973332...</td>\n",
       "      <td>[[0.0, 162.2], [162.3, 324.5], [324.6, 486.8],...</td>\n",
       "      <td>x   y   z  imp location filtering        ...</td>\n",
       "    </tr>\n",
       "    <tr>\n",
       "      <th>204</th>\n",
       "      <td>True</td>\n",
       "      <td>[0.08843947, 0.40427865, 0.69402659, 0.7768877...</td>\n",
       "      <td>[[0.0, 162.2], [162.3, 324.5], [324.6, 486.8],...</td>\n",
       "      <td>x   y   z  imp location filtering        ...</td>\n",
       "    </tr>\n",
       "    <tr>\n",
       "      <th>301</th>\n",
       "      <td>False</td>\n",
       "      <td>[0.35299728, 0.41550157, 0.43053373, 0.5010251...</td>\n",
       "      <td>[[0.0, 162.2], [162.3, 324.5], [324.6, 486.8],...</td>\n",
       "      <td>x   y   z  imp location filtering        ...</td>\n",
       "    </tr>\n",
       "    <tr>\n",
       "      <th>401</th>\n",
       "      <td>False</td>\n",
       "      <td>[0.05522126, 0.44196145, 0.48677121, 0.5369876...</td>\n",
       "      <td>[[0.0, 162.2], [162.3, 324.5], [324.6, 486.8],...</td>\n",
       "      <td>x   y   z  imp location filtering        ...</td>\n",
       "    </tr>\n",
       "  </tbody>\n",
       "</table>\n",
       "</div>"
      ],
      "text/plain": [
       "     heldout  ...                                         electrodes\n",
       "id            ...                                                   \n",
       "201     True  ...       x   y   z  imp location filtering        ...\n",
       "203     True  ...       x   y   z  imp location filtering        ...\n",
       "204     True  ...       x   y   z  imp location filtering        ...\n",
       "301    False  ...       x   y   z  imp location filtering        ...\n",
       "401    False  ...       x   y   z  imp location filtering        ...\n",
       "\n",
       "[5 rows x 4 columns]"
      ]
     },
     "execution_count": 14,
     "metadata": {},
     "output_type": "execute_result"
    }
   ],
   "source": [
    "units_df = nwbfile.units.to_dataframe()\n",
    "units_df.head()"
   ]
  },
  {
   "cell_type": "code",
   "execution_count": 17,
   "id": "a287e8f2",
   "metadata": {},
   "outputs": [
    {
     "data": {
      "text/plain": [
       "heldout                                                       True\n",
       "spike_times      [0.13685367, 0.63582305, 0.94940944, 1.0112174...\n",
       "obs_intervals    [[0.0, 162.2], [162.3, 324.5], [324.6, 486.8],...\n",
       "electrodes            x   y   z  imp location filtering        ...\n",
       "Name: 201, dtype: object"
      ]
     },
     "execution_count": 17,
     "metadata": {},
     "output_type": "execute_result"
    }
   ],
   "source": [
    "unit_0 = units_df.iloc[0]\n",
    "unit_0"
   ]
  },
  {
   "cell_type": "code",
   "execution_count": 18,
   "id": "81551ca9",
   "metadata": {},
   "outputs": [
    {
     "data": {
      "text/plain": [
       "array([1.36853670e-01, 6.35823050e-01, 9.49409440e-01, 1.01121742e+00,\n",
       "       1.10419562e+00, 1.39599149e+00, 1.50314171e+00, 1.79305331e+00,\n",
       "       1.81803863e+00, 2.16029642e+00, 2.44766868e+00, 3.25457200e+00,\n",
       "       3.44188006e+00, 3.48058685e+00, 3.54137083e+00, 3.62722207e+00,\n",
       "       3.87359369e+00, 4.76778169e+00, 5.29833054e+00, 5.65369550e+00,\n",
       "       6.21795422e+00, 6.29446667e+00, 9.56394011e+00, 1.02174908e+01,\n",
       "       1.05978410e+01, 1.06177064e+01, 1.35251792e+01, 1.36925399e+01,\n",
       "       1.39662317e+01, 1.52361824e+01, 1.58327172e+01, 1.65669989e+01,\n",
       "       1.67329670e+01, 1.72779748e+01, 1.81675753e+01, 1.88671644e+01,\n",
       "       1.92732374e+01, 1.97460335e+01, 2.28805450e+01, 2.32121535e+01,\n",
       "       2.37754293e+01, 2.51627702e+01, 2.54318744e+01, 2.67983670e+01,\n",
       "       2.69020766e+01, 2.73794601e+01, 2.81356963e+01, 2.82743034e+01,\n",
       "       2.94048280e+01, 2.95907434e+01, 3.01051134e+01, 3.02653062e+01,\n",
       "       3.14239290e+01, 3.27116563e+01, 3.39556388e+01, 3.40391144e+01,\n",
       "       3.43635960e+01, 3.44112319e+01, 3.45933381e+01, 3.55858699e+01,\n",
       "       3.70063471e+01, 3.70870374e+01, 3.78447482e+01, 3.84099080e+01,\n",
       "       3.88760686e+01, 4.09961349e+01, 4.13042736e+01, 4.23720891e+01,\n",
       "       4.26276767e+01, 4.38207874e+01, 4.40667904e+01, 4.53927739e+01,\n",
       "       4.61962364e+01, 4.66064463e+01, 4.73053391e+01, 4.73293824e+01,\n",
       "       4.73553098e+01, 4.78127870e+01, 4.86493857e+01, 4.90215852e+01,\n",
       "       4.91587177e+01, 4.98304953e+01, 4.99593950e+01, 5.02390259e+01,\n",
       "       5.09619619e+01, 5.11714291e+01, 5.12667829e+01, 5.12993867e+01,\n",
       "       5.21999233e+01, 5.25037203e+01, 5.26447031e+01, 5.36723782e+01,\n",
       "       5.39466433e+01, 5.44275084e+01, 5.50794206e+01, 5.50975657e+01,\n",
       "       5.52657866e+01, 5.82702514e+01, 5.87183898e+01, 5.92248956e+01,\n",
       "       5.93788215e+01, 6.07171339e+01, 6.07505569e+01, 6.07813584e+01,\n",
       "       6.08468118e+01, 6.12585781e+01, 6.18053472e+01, 6.19006191e+01,\n",
       "       6.32465908e+01, 6.35649284e+01, 6.38062621e+01, 6.45469336e+01,\n",
       "       6.46009183e+01, 6.49207714e+01, 6.52126492e+01, 6.56818818e+01,\n",
       "       6.57763345e+01, 6.59986220e+01, 6.63419859e+01, 6.71063730e+01,\n",
       "       6.74100061e+01, 6.78996366e+01, 6.79393673e+01, 6.88195471e+01,\n",
       "       6.90071418e+01, 6.90392951e+01, 6.92738704e+01, 6.97598145e+01,\n",
       "       6.98734772e+01, 7.16890502e+01, 7.33157587e+01, 7.33419318e+01,\n",
       "       7.57734545e+01, 7.86333731e+01, 7.95900243e+01, 8.05143994e+01,\n",
       "       8.06215906e+01, 8.16969835e+01, 8.20152802e+01, 8.20401426e+01,\n",
       "       8.24800072e+01, 8.33741542e+01, 8.38841825e+01, 8.48161761e+01,\n",
       "       8.53578251e+01, 8.53912072e+01, 8.54051334e+01, 8.55204755e+01,\n",
       "       8.62731482e+01, 8.62981335e+01, 8.68100460e+01, 8.79872234e+01,\n",
       "       8.81676092e+01, 8.83829336e+01, 8.89931899e+01, 8.94911352e+01,\n",
       "       8.96858978e+01, 9.03402266e+01, 9.03507122e+01, 9.07441697e+01,\n",
       "       9.09014134e+01, 9.10755734e+01, 9.28731651e+01, 9.31151541e+01,\n",
       "       9.32626494e+01, 9.46899259e+01, 9.52128564e+01, 9.52713876e+01,\n",
       "       9.69073530e+01, 9.73029403e+01, 9.74664508e+01, 9.75489433e+01,\n",
       "       9.76078432e+01, 9.77582466e+01, 9.85397958e+01, 9.92660905e+01,\n",
       "       9.93754934e+01, 1.00191817e+02, 1.00619599e+02, 1.00742477e+02,\n",
       "       1.01133436e+02, 1.01699661e+02, 1.01883119e+02, 1.02938360e+02,\n",
       "       1.03635327e+02, 1.03982910e+02, 1.05320035e+02, 1.05697313e+02,\n",
       "       1.05838050e+02, 1.05963960e+02, 1.06648107e+02, 1.07234033e+02,\n",
       "       1.07258650e+02, 1.07727227e+02, 1.07809966e+02, 1.07871978e+02,\n",
       "       1.09827182e+02, 1.11102990e+02, 1.11172335e+02, 1.12051491e+02,\n",
       "       1.12777458e+02, 1.13388410e+02, 1.15660355e+02, 1.16307434e+02,\n",
       "       1.16696263e+02, 1.16879393e+02, 1.17198836e+02, 1.17563417e+02,\n",
       "       1.18180227e+02, 1.18938265e+02, 1.19279868e+02, 1.19444976e+02,\n",
       "       1.22041156e+02, 1.22186644e+02, 1.22218183e+02, 1.22380834e+02,\n",
       "       1.22445017e+02, 1.23267075e+02, 1.23958882e+02, 1.24495698e+02,\n",
       "       1.25088424e+02, 1.27139432e+02, 1.27491397e+02, 1.28186563e+02,\n",
       "       1.29360791e+02, 1.29540235e+02, 1.30436676e+02, 1.31245340e+02,\n",
       "       1.31868417e+02, 1.32245040e+02, 1.33133452e+02, 1.33309824e+02,\n",
       "       1.33851760e+02, 1.33913773e+02, 1.34345609e+02, 1.35605074e+02,\n",
       "       1.35645583e+02, 1.36144061e+02, 1.36445359e+02, 1.37408441e+02,\n",
       "       1.39106174e+02, 1.41013742e+02, 1.41890686e+02, 1.42173061e+02,\n",
       "       1.42722943e+02, 1.43081626e+02, 1.43807756e+02, 1.45257069e+02,\n",
       "       1.46194428e+02, 1.46259226e+02, 1.46668494e+02, 1.46779208e+02,\n",
       "       1.46960290e+02, 1.48583025e+02, 1.49161415e+02, 1.49249847e+02,\n",
       "       1.49910074e+02, 1.49979377e+02, 1.50147680e+02, 1.50495304e+02,\n",
       "       1.51155408e+02, 1.52231825e+02, 1.52432977e+02, 1.52561058e+02,\n",
       "       1.53754619e+02, 1.54546777e+02, 1.54820673e+02, 1.58045869e+02,\n",
       "       1.59799880e+02, 1.60768983e+02, 1.61742386e+02, 1.63596884e+02,\n",
       "       1.65152693e+02, 1.66011370e+02, 1.68176167e+02, 1.70201701e+02,\n",
       "       1.72014777e+02, 1.72076094e+02, 1.72267252e+02, 1.73744091e+02,\n",
       "       1.73800779e+02, 1.74211031e+02, 1.74508316e+02, 1.76787389e+02,\n",
       "       1.76810654e+02, 1.77031099e+02, 1.78357289e+02, 1.78565363e+02,\n",
       "       1.78880507e+02, 1.79095381e+02, 1.80514917e+02, 1.83551826e+02,\n",
       "       1.83670322e+02, 1.85264551e+02, 1.85544715e+02, 1.86371730e+02,\n",
       "       1.86555147e+02, 1.87042812e+02, 1.87684075e+02, 1.88410330e+02,\n",
       "       1.88689265e+02, 1.88845116e+02, 1.89410113e+02, 1.89950697e+02,\n",
       "       1.91409760e+02, 1.91496308e+02, 1.91831234e+02, 1.92401965e+02,\n",
       "       1.92457015e+02, 1.92929852e+02, 1.93891502e+02, 1.94068120e+02,\n",
       "       1.94116902e+02, 1.94672315e+02, 1.95306615e+02, 1.95647563e+02,\n",
       "       1.96334578e+02, 1.96359031e+02, 1.96697767e+02, 1.97162740e+02,\n",
       "       1.97480259e+02, 1.99474335e+02, 1.99561702e+02, 2.00508442e+02,\n",
       "       2.00890186e+02, 2.01947517e+02, 2.02123233e+02, 2.02896673e+02,\n",
       "       2.03060758e+02, 2.05222154e+02, 2.05847198e+02, 2.05872511e+02,\n",
       "       2.06604049e+02, 2.07070538e+02, 2.07261041e+02, 2.07486769e+02,\n",
       "       2.07947729e+02, 2.08126681e+02, 2.08949887e+02, 2.09606142e+02,\n",
       "       2.10643075e+02, 2.10939991e+02, 2.11421348e+02, 2.12030335e+02,\n",
       "       2.12525701e+02, 2.12843834e+02, 2.13395641e+02, 2.13745313e+02,\n",
       "       2.14056811e+02, 2.14245963e+02, 2.14342259e+02, 2.17268945e+02,\n",
       "       2.17660355e+02, 2.17980454e+02, 2.18006013e+02, 2.18055123e+02,\n",
       "       2.18340939e+02, 2.19183929e+02, 2.20436350e+02, 2.20694068e+02,\n",
       "       2.21249111e+02, 2.21394067e+02, 2.23073574e+02, 2.23715862e+02,\n",
       "       2.24221754e+02, 2.25832571e+02, 2.29122241e+02, 2.30756282e+02,\n",
       "       2.31404304e+02, 2.31932355e+02, 2.34436091e+02, 2.35617282e+02,\n",
       "       2.36822928e+02, 2.38479825e+02, 2.39520075e+02, 2.39776564e+02,\n",
       "       2.40289910e+02, 2.41457217e+02, 2.42602078e+02, 2.43288069e+02,\n",
       "       2.44076501e+02, 2.44954470e+02, 2.45668805e+02, 2.47025427e+02,\n",
       "       2.47105667e+02, 2.49152499e+02, 2.49877483e+02, 2.51838669e+02,\n",
       "       2.52818586e+02, 2.53198527e+02, 2.53242394e+02, 2.54073833e+02,\n",
       "       2.54309596e+02, 2.54591889e+02, 2.54766008e+02, 2.55924672e+02,\n",
       "       2.57004203e+02, 2.57078176e+02, 2.57350598e+02, 2.57450171e+02,\n",
       "       2.57824254e+02, 2.59597845e+02, 2.60133759e+02, 2.61903704e+02,\n",
       "       2.62055582e+02, 2.63402086e+02, 2.63854443e+02, 2.63937836e+02,\n",
       "       2.64321095e+02, 2.64578198e+02, 2.65955052e+02, 2.66559943e+02,\n",
       "       2.66854115e+02, 2.66866116e+02, 2.66909656e+02, 2.67031306e+02,\n",
       "       2.67048550e+02, 2.67382001e+02, 2.67828256e+02, 2.68880752e+02,\n",
       "       2.69154526e+02, 2.71332059e+02, 2.74455553e+02, 2.74613738e+02,\n",
       "       2.77040428e+02, 2.77389322e+02, 2.78107507e+02, 2.78582146e+02,\n",
       "       2.79452496e+02, 2.80743131e+02, 2.83606450e+02, 2.84573873e+02,\n",
       "       2.85484977e+02, 2.86841066e+02, 2.87004126e+02, 2.91254621e+02,\n",
       "       2.92119278e+02, 2.92999621e+02, 2.95416439e+02, 2.95488323e+02,\n",
       "       2.95812027e+02, 2.95927164e+02, 2.98157534e+02, 3.00419239e+02,\n",
       "       3.00821380e+02, 3.01765702e+02, 3.01929499e+02, 3.01942279e+02,\n",
       "       3.03671796e+02, 3.03895107e+02, 3.05676847e+02, 3.08810662e+02,\n",
       "       3.09093693e+02, 3.10153275e+02, 3.10317359e+02, 3.10543906e+02,\n",
       "       3.12233283e+02, 3.12770467e+02, 3.14159938e+02, 3.16803099e+02,\n",
       "       3.16968248e+02, 3.17689381e+02, 3.18097994e+02, 3.18332037e+02,\n",
       "       3.18344447e+02, 3.19592567e+02, 3.20444157e+02, 3.20740049e+02,\n",
       "       3.21170738e+02, 3.21854763e+02, 3.23762167e+02, 3.23793747e+02,\n",
       "       3.24035203e+02, 3.25283409e+02, 3.25351525e+02, 3.25406861e+02,\n",
       "       3.25461583e+02, 3.25598921e+02, 3.25634310e+02, 3.26055866e+02,\n",
       "       3.26780522e+02, 3.27871889e+02, 3.28687394e+02, 3.29533905e+02,\n",
       "       3.29940838e+02, 3.30778011e+02, 3.32210366e+02, 3.33140107e+02,\n",
       "       3.33195239e+02, 3.33518983e+02, 3.34024588e+02, 3.34033517e+02,\n",
       "       3.34248063e+02, 3.34482024e+02, 3.34572872e+02, 3.35256979e+02,\n",
       "       3.38613246e+02, 3.38849828e+02, 3.40000915e+02, 3.40127480e+02,\n",
       "       3.41011633e+02, 3.41135699e+02, 3.44140492e+02, 3.45030338e+02,\n",
       "       3.46284151e+02, 3.46363818e+02, 3.47280533e+02, 3.48973515e+02,\n",
       "       3.49391507e+02, 3.49453806e+02, 3.49860248e+02, 3.51261843e+02,\n",
       "       3.51452182e+02, 3.54768800e+02, 3.55277026e+02, 3.56409927e+02,\n",
       "       3.59362141e+02, 3.59428619e+02, 3.60621157e+02, 3.61179273e+02,\n",
       "       3.61304241e+02, 3.63152174e+02, 3.63197434e+02, 3.63750225e+02,\n",
       "       3.64512647e+02, 3.64549183e+02, 3.64606895e+02, 3.65022266e+02,\n",
       "       3.65506040e+02, 3.66106507e+02, 3.66844968e+02, 3.66920784e+02,\n",
       "       3.68034885e+02, 3.68578419e+02, 3.69267728e+02, 3.69446476e+02,\n",
       "       3.71533817e+02, 3.71713179e+02, 3.72080382e+02, 3.72108317e+02,\n",
       "       3.72133343e+02, 3.73012786e+02, 3.73728842e+02, 3.75370462e+02,\n",
       "       3.76430906e+02, 3.76877283e+02, 3.77358886e+02, 3.78885655e+02,\n",
       "       3.79880973e+02, 3.80151102e+02, 3.80444004e+02, 3.81228503e+02,\n",
       "       3.81676109e+02, 3.82531059e+02, 3.82838870e+02, 3.82974324e+02,\n",
       "       3.83579829e+02, 3.83698489e+02, 3.84019408e+02, 3.84028009e+02,\n",
       "       3.84628436e+02, 3.85758552e+02, 3.85836990e+02, 3.87279218e+02,\n",
       "       3.87845403e+02, 3.88254425e+02, 3.88681552e+02, 3.88690522e+02,\n",
       "       3.88804881e+02, 3.89046133e+02, 3.89286197e+02, 3.89847385e+02,\n",
       "       3.90681691e+02, 3.91018338e+02, 3.91592550e+02, 3.92581765e+02,\n",
       "       3.93023351e+02, 3.93713397e+02, 3.94044883e+02, 3.94510348e+02,\n",
       "       3.94552045e+02, 3.94615286e+02, 3.94707937e+02, 3.94780558e+02,\n",
       "       3.94813203e+02, 3.94863092e+02, 3.95672290e+02, 3.96814776e+02,\n",
       "       3.98542451e+02, 3.98716652e+02, 3.98759701e+02, 3.99058788e+02,\n",
       "       3.99067922e+02, 3.99963872e+02, 3.99972883e+02, 4.02530032e+02,\n",
       "       4.03028182e+02, 4.03271646e+02, 4.03340663e+02, 4.03428890e+02,\n",
       "       4.03436181e+02, 4.03714665e+02, 4.04617537e+02, 4.04972288e+02,\n",
       "       4.05759409e+02, 4.09580448e+02, 4.12310732e+02, 4.12632593e+02,\n",
       "       4.13577531e+02, 4.13718104e+02, 4.14781989e+02, 4.15917716e+02,\n",
       "       4.18254707e+02, 4.19880885e+02, 4.21270767e+02, 4.21886717e+02,\n",
       "       4.22270754e+02, 4.23391040e+02, 4.24247874e+02, 4.26094373e+02,\n",
       "       4.26888539e+02, 4.27224490e+02, 4.28657461e+02, 4.28775097e+02,\n",
       "       4.29292048e+02, 4.30187548e+02, 4.30288800e+02, 4.30668331e+02,\n",
       "       4.30900286e+02, 4.31479495e+02, 4.32187932e+02, 4.32775703e+02,\n",
       "       4.33013104e+02, 4.33146715e+02, 4.33800143e+02, 4.36882435e+02,\n",
       "       4.37958853e+02, 4.38434435e+02, 4.39065253e+02, 4.39301385e+02,\n",
       "       4.39774714e+02, 4.39854258e+02, 4.40873742e+02, 4.41075878e+02,\n",
       "       4.41141905e+02, 4.41518242e+02, 4.42063496e+02, 4.42212630e+02,\n",
       "       4.42234051e+02, 4.43009908e+02, 4.43049680e+02, 4.43236947e+02,\n",
       "       4.43367567e+02, 4.43537386e+02, 4.43562043e+02, 4.43901189e+02,\n",
       "       4.43919129e+02, 4.45046051e+02, 4.45441147e+02, 4.45621000e+02,\n",
       "       4.47074288e+02, 4.47224651e+02, 4.48314340e+02, 4.48613222e+02,\n",
       "       4.50310751e+02, 4.52240767e+02, 4.52452897e+02, 4.52486771e+02,\n",
       "       4.53761843e+02, 4.54093247e+02, 4.54764984e+02, 4.55228033e+02,\n",
       "       4.57154076e+02, 4.58798317e+02, 4.60167678e+02, 4.60491914e+02,\n",
       "       4.61185237e+02, 4.61338958e+02, 4.61778537e+02, 4.61952206e+02,\n",
       "       4.62651263e+02, 4.63320133e+02, 4.63482333e+02, 4.64216329e+02,\n",
       "       4.64367306e+02, 4.67572108e+02, 4.67618392e+02, 4.67863781e+02,\n",
       "       4.68118714e+02, 4.69025313e+02, 4.71501771e+02, 4.71577137e+02,\n",
       "       4.71763462e+02, 4.72163883e+02, 4.72234129e+02, 4.72335299e+02,\n",
       "       4.72475872e+02, 4.74477117e+02, 4.76067292e+02, 4.77689701e+02,\n",
       "       4.78375242e+02, 4.80749752e+02, 4.80985229e+02, 4.82089868e+02,\n",
       "       4.82217662e+02, 4.82345210e+02, 4.83177222e+02, 4.84226075e+02,\n",
       "       4.84489568e+02, 4.86195125e+02, 4.87142642e+02, 4.87194702e+02,\n",
       "       4.87230173e+02, 4.88065256e+02, 4.88079920e+02, 4.88714957e+02,\n",
       "       4.88918976e+02, 4.89086091e+02, 4.90965889e+02, 4.92966230e+02,\n",
       "       4.93657505e+02, 4.94043385e+02, 4.95730672e+02, 4.96171725e+02,\n",
       "       4.96692280e+02, 4.96858780e+02, 4.97956046e+02, 4.98919046e+02,\n",
       "       4.99192860e+02, 5.00852132e+02, 5.01619468e+02, 5.02013417e+02,\n",
       "       5.04598702e+02, 5.06607931e+02, 5.06697797e+02, 5.06961330e+02,\n",
       "       5.08209491e+02, 5.12058746e+02, 5.13282700e+02, 5.13466485e+02,\n",
       "       5.13634378e+02, 5.13925642e+02, 5.16225889e+02, 5.17543927e+02,\n",
       "       5.19936415e+02, 5.20884301e+02, 5.20988543e+02, 5.22571957e+02,\n",
       "       5.22613326e+02, 5.25263573e+02, 5.26535326e+02, 5.27780824e+02,\n",
       "       5.28117020e+02, 5.29188850e+02, 5.29664103e+02, 5.30112242e+02,\n",
       "       5.32090137e+02, 5.32402905e+02, 5.33680105e+02, 5.34090029e+02,\n",
       "       5.34100268e+02, 5.36036754e+02, 5.36369141e+02, 5.37387027e+02,\n",
       "       5.37911391e+02, 5.39057398e+02, 5.40943053e+02, 5.40968366e+02,\n",
       "       5.43365810e+02, 5.43498519e+02, 5.44079162e+02, 5.44096365e+02,\n",
       "       5.44163211e+02, 5.44343760e+02, 5.44501250e+02, 5.45137024e+02,\n",
       "       5.45227749e+02, 5.45547111e+02, 5.45666140e+02, 5.46512446e+02,\n",
       "       5.47333439e+02, 5.47592754e+02, 5.47922724e+02, 5.48758340e+02,\n",
       "       5.50530660e+02, 5.50587430e+02, 5.50612906e+02, 5.51425339e+02,\n",
       "       5.52146063e+02, 5.52760047e+02, 5.53770601e+02, 5.54011853e+02,\n",
       "       5.54798809e+02, 5.55093062e+02, 5.55352950e+02, 5.55498029e+02,\n",
       "       5.55588058e+02, 5.57413421e+02, 5.57421203e+02, 5.57666346e+02,\n",
       "       5.59444441e+02, 5.60577546e+02, 5.61157164e+02, 5.61281190e+02,\n",
       "       5.61355327e+02, 5.61860768e+02, 5.62586571e+02, 5.62632446e+02,\n",
       "       5.63534170e+02, 5.64489552e+02, 5.64596292e+02, 5.64669856e+02,\n",
       "       5.64815508e+02, 5.65789894e+02, 5.66100286e+02, 5.67099085e+02,\n",
       "       5.67516217e+02, 5.70028061e+02, 5.70211847e+02, 5.70656421e+02,\n",
       "       5.70721629e+02, 5.72094757e+02, 5.72321181e+02, 5.72647097e+02,\n",
       "       5.74205608e+02, 5.74266023e+02, 5.74664436e+02, 5.75023201e+02,\n",
       "       5.75787629e+02, 5.76023433e+02, 5.76287336e+02, 5.78100615e+02,\n",
       "       5.78297016e+02, 5.79292866e+02, 5.80643425e+02, 5.82470794e+02,\n",
       "       5.82645405e+02, 5.83477293e+02, 5.83660219e+02, 5.84241926e+02,\n",
       "       5.84446806e+02, 5.85479806e+02, 5.85998067e+02, 5.86251156e+02,\n",
       "       5.86442642e+02, 5.90532166e+02, 5.91085817e+02, 5.91270749e+02,\n",
       "       5.91546612e+02, 5.92219864e+02, 5.92361134e+02, 5.92521531e+02,\n",
       "       5.92596897e+02, 5.92830325e+02, 5.93505216e+02, 5.93551336e+02,\n",
       "       5.93622852e+02, 5.94327766e+02, 5.94713400e+02, 5.94973124e+02,\n",
       "       5.98546436e+02, 5.99024065e+02, 5.99137523e+02, 5.99213790e+02,\n",
       "       6.00253261e+02, 6.00948549e+02, 6.01340778e+02, 6.01593785e+02,\n",
       "       6.01765652e+02, 6.02030086e+02, 6.02323111e+02, 6.02549331e+02,\n",
       "       6.02562724e+02, 6.02591642e+02, 6.02821179e+02, 6.03508439e+02,\n",
       "       6.03614770e+02, 6.03893336e+02, 6.04618689e+02, 6.06251378e+02,\n",
       "       6.06461541e+02, 6.06821330e+02, 6.07302564e+02, 6.08309145e+02,\n",
       "       6.11346255e+02, 6.12068290e+02, 6.12827803e+02, 6.17129825e+02,\n",
       "       6.18996884e+02, 6.19226872e+02, 6.19511091e+02, 6.20027468e+02,\n",
       "       6.20667051e+02, 6.21595891e+02, 6.21668840e+02, 6.22031905e+02,\n",
       "       6.22053532e+02, 6.22784373e+02, 6.22911512e+02, 6.23290633e+02,\n",
       "       6.25363883e+02, 6.25390671e+02, 6.26169598e+02, 6.27141487e+02,\n",
       "       6.28389565e+02, 6.28639910e+02, 6.29089728e+02, 6.29464180e+02,\n",
       "       6.29577269e+02, 6.30250685e+02, 6.30830550e+02, 6.32636948e+02,\n",
       "       6.32986292e+02, 6.33582827e+02, 6.33855781e+02, 6.34112966e+02,\n",
       "       6.35331595e+02, 6.35614380e+02, 6.36151892e+02, 6.36174706e+02,\n",
       "       6.37262961e+02, 6.38231326e+02, 6.38413433e+02, 6.38443333e+02,\n",
       "       6.38654971e+02, 6.39380651e+02, 6.40574868e+02, 6.42147469e+02,\n",
       "       6.42288657e+02, 6.42547808e+02, 6.44992274e+02, 6.45559809e+02,\n",
       "       6.45637469e+02, 6.46536613e+02, 6.46979959e+02, 6.47281094e+02,\n",
       "       6.48224228e+02])"
      ]
     },
     "execution_count": 18,
     "metadata": {},
     "output_type": "execute_result"
    }
   ],
   "source": [
    "unit_0_spikes = unit_0['spike_times']\n",
    "unit_0_spikes"
   ]
  },
  {
   "cell_type": "code",
   "execution_count": 19,
   "id": "694b2ce6",
   "metadata": {},
   "outputs": [
    {
     "data": {
      "text/plain": [
       "(937,)"
      ]
     },
     "execution_count": 19,
     "metadata": {},
     "output_type": "execute_result"
    }
   ],
   "source": [
    "unit_0_spikes.shape"
   ]
  },
  {
   "cell_type": "code",
   "execution_count": 25,
   "id": "b9fab1cf",
   "metadata": {},
   "outputs": [
    {
     "name": "stderr",
     "output_type": "stream",
     "text": [
      "C:\\Users\\mrrai\\AppData\\Local\\Temp\\ipykernel_40352\\4071720797.py:4: UserWarning: Matplotlib is currently using module://matplotlib_inline.backend_inline, which is a non-GUI backend, so cannot show the figure.\n",
      "  fig.show()\n"
     ]
    },
    {
     "data": {
      "image/png": "[encoded data removed]",
      "text/plain": [
       "<Figure size 3000x100 with 1 Axes>"
      ]
     },
     "metadata": {},
     "output_type": "display_data"
    }
   ],
   "source": [
    "import matplotlib.pyplot as plt\n",
    "fig, ax = plt.subplots(figsize=(30, 1))\n",
    "ax.eventplot(unit_0_spikes, linelengths=0.8, colors='#848484', lineoffsets=['u0'])\n",
    "fig.show()"
   ]
  },
  {
   "cell_type": "code",
   "execution_count": null,
   "id": "6801672c",
   "metadata": {},
   "outputs": [],
   "source": []
  }
 ],
 "metadata": {
  "kernelspec": {
   "display_name": "Python 3 (ipykernel)",
   "language": "python",
   "name": "python3"
  },
  "language_info": {
   "codemirror_mode": {
    "name": "ipython",
    "version": 3
   },
   "file_extension": ".py",
   "mimetype": "text/x-python",
   "name": "python",
   "nbconvert_exporter": "python",
   "pygments_lexer": "ipython3",
   "version": "3.8.16"
  }
 },
 "nbformat": 4,
 "nbformat_minor": 5
}
